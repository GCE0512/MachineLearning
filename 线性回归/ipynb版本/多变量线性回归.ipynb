{
 "cells": [
  {
   "cell_type": "code",
   "execution_count": 35,
   "metadata": {},
   "outputs": [],
   "source": [
    "import numpy as np\n",
    "import pandas as pd\n",
    "import matplotlib.pyplot as plt\n",
    "import seaborn as sns\n",
    "import tensorflow as tf\n",
    "%matplotlib inline"
   ]
  },
  {
   "cell_type": "code",
   "execution_count": 36,
   "metadata": {
    "collapsed": true
   },
   "outputs": [],
   "source": [
    "def get_X(df):\n",
    "    # ones是m行一列的dataframe\n",
    "    ones = pd.DataFrame({'ones': np.ones(len(df))})\n",
    "    # 合并数据，根据列合并\n",
    "    data = pd.concat([ones, df], axis=1)\n",
    "    # 上面两行完成的操作，就是在原有的数据上添加一列全为0的数据\n",
    "    \n",
    "    # 返回ndarray,不是矩阵\n",
    "    return data.iloc[:, :-1].values \n",
    "\n",
    "def get_y(df):\n",
    "    # df.iloc[:, -1]是指df的最后一列\n",
    "    return np.array(df.iloc[:, -1])\n",
    "\n",
    "def normalize_feature(df):\n",
    "    # 特征缩放\n",
    "    return df.apply(lambda column: (column - column.mean()) / column.std())\n",
    "\n",
    "def Hypothesis(X, theta):\n",
    "    return X.dot(theta)\n",
    "\n",
    "'''\n",
    "X: R(m*n), m样本数, n特征数\n",
    "y: R(m)\n",
    "theta: R(n), 线性回归的参数,(假设函数的theta0,theta1)\n",
    "'''\n",
    "def lr_cost(theta, X, y):\n",
    "    # m样本数\n",
    "    m = X.shape[0]\n",
    "    # 假设函数\n",
    "    hypothesis = Hypothesis(X, theta)\n",
    "    # 硬上公式\n",
    "    cost = np.square(hypothesis - y).sum() / (2 * m)\n",
    "    return cost\n",
    "\n",
    "'''\n",
    "批量梯度下降\n",
    "'''\n",
    "\n",
    "# 单次下降\n",
    "def gradient(theta, X, y):\n",
    "    m = X.shape[0]\n",
    "    J = X.T.dot((Hypothesis(X, theta) - y)) / m\n",
    "    #inner = X.T @ (X @ theta - y) / m\n",
    "    return J\n",
    "\n",
    "'''\n",
    "批量梯度下降函数\n",
    "拟合线性回归\n",
    "iteration 迭代次数\n",
    "'''\n",
    "def batch_gradient_decent(theta, X, y, iteration, alpha = 0.01):\n",
    "    cost_data = lr_cost(theta, X, y)\n",
    "    # 拷贝一份theta数据，不与原来的混淆\n",
    "    theta_copy = theta.copy()\n",
    "    for _ in range(iteration):\n",
    "        theta_copy = theta_copy - alpha * gradient(theta_copy, X, y)\n",
    "        cost_data = np.append(cost_data, lr_cost(theta_copy, X, y))\n",
    "    \n",
    "    return theta_copy, cost_data"
   ]
  },
  {
   "cell_type": "code",
   "execution_count": 37,
   "metadata": {},
   "outputs": [
    {
     "name": "stdout",
     "output_type": "stream",
     "text": [
      "   Square  Bedrooms   Price\n",
      "0    2104         3  399900\n",
      "1    1600         3  329900\n",
      "2    2400         3  369000\n",
      "3    1416         2  232000\n",
      "4    3000         4  539900\n"
     ]
    }
   ],
   "source": [
    "raw_data = pd.read_csv(\"ex1data2.txt\",\n",
    "                   names=['Square', 'Bedrooms', 'Price'])\n",
    "print(raw_data.head())"
   ]
  },
  {
   "cell_type": "markdown",
   "metadata": {},
   "source": [
    "## 标准化数据(特征缩放)"
   ]
  },
  {
   "cell_type": "code",
   "execution_count": 39,
   "metadata": {},
   "outputs": [],
   "source": [
    "def normalize_feature(df):\n",
    "    # 特征缩放\n",
    "    return df.apply(lambda column: (column - column.mean()) / column.std())"
   ]
  },
  {
   "cell_type": "code",
   "execution_count": 40,
   "metadata": {},
   "outputs": [
    {
     "name": "stdout",
     "output_type": "stream",
     "text": [
      "     Square  Bedrooms     Price\n",
      "0  0.130010 -0.223675  0.475747\n",
      "1 -0.504190 -0.223675 -0.084074\n",
      "2  0.502476 -0.223675  0.228626\n",
      "3 -0.735723 -1.537767 -0.867025\n",
      "4  1.257476  1.090417  1.595389\n"
     ]
    }
   ],
   "source": [
    "data = normalize_feature(raw_data)\n",
    "print(data.head())"
   ]
  },
  {
   "cell_type": "markdown",
   "metadata": {},
   "source": [
    "## multi-var batch gradient decent(多变量批量梯度下降)"
   ]
  },
  {
   "cell_type": "code",
   "execution_count": 41,
   "metadata": {},
   "outputs": [
    {
     "name": "stdout",
     "output_type": "stream",
     "text": [
      "(47, 3) <class 'numpy.ndarray'>\n",
      "(47,) <class 'numpy.ndarray'>\n"
     ]
    }
   ],
   "source": [
    "X = get_X(data)\n",
    "print(X.shape, type(X))\n",
    "\n",
    "y = get_y(data)\n",
    "print(y.shape, type(y))"
   ]
  },
  {
   "cell_type": "code",
   "execution_count": 42,
   "metadata": {},
   "outputs": [],
   "source": [
    "# 学习率\n",
    "alpha = 0.01\n",
    "# theta变量 X.shape[1]: 特征数n\n",
    "theta = np.zeros(X.shape[1])\n",
    "# 迭代次数\n",
    "iteration = 1000"
   ]
  },
  {
   "cell_type": "code",
   "execution_count": 43,
   "metadata": {},
   "outputs": [],
   "source": [
    "final_theta, cost_data = batch_gradient_decent(theta, X, y, iteration, alpha)"
   ]
  },
  {
   "cell_type": "code",
   "execution_count": 46,
   "metadata": {},
   "outputs": [
    {
     "name": "stderr",
     "output_type": "stream",
     "text": [
      "C:\\Users\\TNanko\\Anaconda3\\lib\\site-packages\\seaborn\\timeseries.py:183: UserWarning: The tsplot function is deprecated and will be removed or replaced (in a substantially altered version) in a future release.\n",
      "  warnings.warn(msg, UserWarning)\n"
     ]
    },
    {
     "data": {
      "image/png": "[encoded data removed]",
      "text/plain": [
       "<matplotlib.figure.Figure at 0x11b0dac8>"
      ]
     },
     "metadata": {},
     "output_type": "display_data"
    }
   ],
   "source": [
    "sns.tsplot(cost_data, np.arange(len(cost_data)))\n",
    "plt.xlabel('Iteration', fontsize=18)\n",
    "plt.ylabel('Cost', fontsize=18)\n",
    "plt.show()"
   ]
  },
  {
   "cell_type": "code",
   "execution_count": 47,
   "metadata": {},
   "outputs": [
    {
     "name": "stdout",
     "output_type": "stream",
     "text": [
      "[-1.03049956e-16  8.78503652e-01 -4.69166570e-02]\n"
     ]
    }
   ],
   "source": [
    "print(final_theta)"
   ]
  },
  {
   "cell_type": "markdown",
   "metadata": {},
   "source": [
    "## learning rate(学习率)"
   ]
  },
  {
   "cell_type": "code",
   "execution_count": 48,
   "metadata": {},
   "outputs": [
    {
     "name": "stdout",
     "output_type": "stream",
     "text": [
      "[1.00000000e-05 3.00000000e-05 2.15443469e-04 6.46330407e-04\n",
      " 4.64158883e-03 1.39247665e-02 1.00000000e-01 3.00000000e-01]\n"
     ]
    }
   ],
   "source": [
    "base = np.logspace(-1, -5, num=4)\n",
    "new_alpha = np.sort(np.concatenate((base, base*3)))\n",
    "print(new_alpha)"
   ]
  },
  {
   "cell_type": "code",
   "execution_count": 49,
   "metadata": {},
   "outputs": [],
   "source": [
    "fig, ax = plt.subplots(figsize=(16, 9))\n",
    "\n",
    "for alpha in new_alpha:\n",
    "    lr_theta, cost_data = batch_gradient_decent(theta, X, y, iteration, alpha)\n",
    "    ax.plot(np.arange(iteration+1), cost_data, label=alpha)\n",
    "    \n",
    "ax.set_xlabel('Iteration', fontsize=18)\n",
    "ax.set_ylabel('Cost', fontsize=18)\n",
    "ax.set_title('Learning rate', fontsize=20)\n",
    "ax.legend(bbox_to_anchor=(1.05, 1), loc=2, borderaxespad=0.)\n",
    "plt.show()"
   ]
  },
  {
   "cell_type": "markdown",
   "metadata": {},
   "source": [
    "## normal equation(正规方程)"
   ]
  },
  {
   "cell_type": "code",
   "execution_count": 50,
   "metadata": {},
   "outputs": [],
   "source": [
    "def normalEqn(X, y):\n",
    "    theta = np.linalg.inv(X.T.dot(X)).dot(X.T).dot(y)\n",
    "    return theta"
   ]
  },
  {
   "cell_type": "code",
   "execution_count": 51,
   "metadata": {},
   "outputs": [
    {
     "name": "stdout",
     "output_type": "stream",
     "text": [
      "[-1.04083409e-16  8.84765988e-01 -5.31788197e-02]\n"
     ]
    }
   ],
   "source": [
    "# 和批量梯度下降的theta有点差距的\n",
    "final_theta2 = normalEqn(X, y)\n",
    "print(final_theta2)"
   ]
  },
  {
   "cell_type": "markdown",
   "metadata": {},
   "source": [
    "## Run the tensorflow graph over several optimizer\n",
    "### 有点小问题"
   ]
  },
  {
   "cell_type": "code",
   "execution_count": 52,
   "metadata": {},
   "outputs": [
    {
     "name": "stdout",
     "output_type": "stream",
     "text": [
      "(47, 3) <class 'numpy.ndarray'>\n",
      "(47,) <class 'numpy.ndarray'>\n"
     ]
    }
   ],
   "source": [
    "X_data = get_X(data)\n",
    "print(X_data.shape, type(X_data))\n",
    "y_data = get_y(data)\n",
    "print(y_data.shape, type(y_data))"
   ]
  },
  {
   "cell_type": "code",
   "execution_count": 56,
   "metadata": {},
   "outputs": [],
   "source": [
    "epoch = 2000\n",
    "alpha = 0.01"
   ]
  },
  {
   "cell_type": "code",
   "execution_count": 57,
   "metadata": {},
   "outputs": [],
   "source": [
    "def linear_regression(X_data, y_data, alpha, epoch, optimizer=tf.train.GradientDescentOptimizer):# 这个函数是旧金山的一个大神Lucas Shen写的\n",
    "      # placeholder for graph input\n",
    "    X = tf.placeholder(tf.float32, shape=X_data.shape)\n",
    "    y = tf.placeholder(tf.float32, shape=y_data.shape)\n",
    "\n",
    "    # construct the graph\n",
    "    with tf.variable_scope('linear-regression'):\n",
    "        W = tf.get_variable(\"weights\",\n",
    "                            (X_data.shape[1], 1),\n",
    "                            initializer=tf.constant_initializer())  # n*1\n",
    "\n",
    "        y_pred = tf.matmul(X, W)  # m*n @ n*1 -> m*1\n",
    "\n",
    "        loss = 1 / (2 * len(X_data)) * tf.matmul((y_pred - y), (y_pred - y), transpose_a=True)  # (m*1).T @ m*1 = 1*1\n",
    "\n",
    "    opt = optimizer(learning_rate=alpha)\n",
    "    opt_operation = opt.minimize(loss)\n",
    "\n",
    "    # run the session\n",
    "    with tf.Session() as sess:\n",
    "        sess.run(tf.global_variables_initializer())\n",
    "        loss_data = []\n",
    "\n",
    "        for i in range(epoch):\n",
    "            _, loss_val, W_val = sess.run([opt_operation, loss, W], feed_dict={X: X_data, y: y_data})\n",
    "            loss_data.append(loss_val[0, 0])  # because every loss_val is 1*1 ndarray\n",
    "\n",
    "            if len(loss_data) > 1 and np.abs(loss_data[-1] - loss_data[-2]) < 10 ** -9:  # early break when it's converged\n",
    "                # print('Converged at epoch {}'.format(i))\n",
    "                break\n",
    "\n",
    "    # clear the graph\n",
    "    tf.reset_default_graph()\n",
    "    return {'loss': loss_data, 'parameters': W_val}  # just want to return in row vector format"
   ]
  },
  {
   "cell_type": "code",
   "execution_count": 64,
   "metadata": {},
   "outputs": [
    {
     "name": "stderr",
     "output_type": "stream",
     "text": [
      "C:\\Users\\TNanko\\Anaconda3\\lib\\site-packages\\ipykernel_launcher.py:28: RuntimeWarning: invalid value encountered in float_scalars\n",
      "C:\\Users\\TNanko\\Anaconda3\\lib\\site-packages\\ipykernel_launcher.py:28: RuntimeWarning: invalid value encountered in less\n"
     ]
    }
   ],
   "source": [
    "optimizer_dict = {'GD': tf.train.GradientDescentOptimizer,\n",
    "                  'Adagrad': tf.train.AdagradOptimizer,\n",
    "                  'Adam': tf.train.AdamOptimizer,\n",
    "                  'Ftrl': tf.train.FtrlOptimizer,\n",
    "                  'RMS': tf.train.RMSPropOptimizer\n",
    "                  }\n",
    "results = []\n",
    "for name in optimizer_dict:\n",
    "    res = linear_regression(X_data, y_data, alpha, epoch, optimizer=optimizer_dict[name])\n",
    "    res['name'] = name\n",
    "    results.append(res)"
   ]
  },
  {
   "cell_type": "code",
   "execution_count": 65,
   "metadata": {},
   "outputs": [
    {
     "data": {
      "image/png": "[encoded data removed]",
      "text/plain": [
       "<matplotlib.figure.Figure at 0xefd67f0>"
      ]
     },
     "metadata": {},
     "output_type": "display_data"
    }
   ],
   "source": [
    "fig, ax = plt.subplots(figsize=(16, 9))\n",
    "for res in results:\n",
    "    loss_data = res['loss']\n",
    "    ax.plot(np.arange(len(loss_data)), loss_data, label=res['name'])\n",
    "    \n",
    "ax.set_xlabel('Epoch', fontsize=18)\n",
    "ax.set_ylabel('Cost', fontsize=18)\n",
    "ax.legend(bbox_to_anchor=(1.05, 1), loc=2, borderaxespad=0.)\n",
    "ax.set_title('Different Optimizer', fontsize=18)\n",
    "plt.show()"
   ]
  },
  {
   "cell_type": "code",
   "execution_count": null,
   "metadata": {},
   "outputs": [],
   "source": []
  }
 ],
 "metadata": {
  "kernelspec": {
   "display_name": "Python 3",
   "language": "python",
   "name": "python3"
  },
  "language_info": {
   "codemirror_mode": {
    "name": "ipython",
    "version": 3
   },
   "file_extension": ".py",
   "mimetype": "text/x-python",
   "name": "python",
   "nbconvert_exporter": "python",
   "pygments_lexer": "ipython3",
   "version": "3.6.4"
  }
 },
 "nbformat": 4,
 "nbformat_minor": 1
}
