{
 "cells": [
  {
   "cell_type": "code",
   "execution_count": 2,
   "metadata": {
    "collapsed": true
   },
   "outputs": [],
   "source": [
    "import numpy as np\n",
    "import pandas as pd\n",
    "import matplotlib.pyplot as plt\n",
    "import seaborn as sns\n",
    "%matplotlib inline"
   ]
  },
  {
   "cell_type": "code",
   "execution_count": 3,
   "metadata": {
    "collapsed": true
   },
   "outputs": [
    {
     "name": "stdout",
     "output_type": "stream",
     "text": [
      "   Population   Profit\n",
      "0      6.1101  17.5920\n",
      "1      5.5277   9.1302\n",
      "2      8.5186  13.6620\n",
      "3      7.0032  11.8540\n",
      "4      5.8598   6.8233\n"
     ]
    }
   ],
   "source": [
    "data = pd.read_csv(\"ex1data1.txt\",\n",
    "                   names=['Population', 'Profit'])\n",
    "print(data.head())"
   ]
  },
  {
   "cell_type": "code",
   "execution_count": 4,
   "metadata": {},
   "outputs": [
    {
     "name": "stdout",
     "output_type": "stream",
     "text": [
      "<class 'pandas.core.frame.DataFrame'>\n",
      "RangeIndex: 97 entries, 0 to 96\n",
      "Data columns (total 2 columns):\n",
      "Population    97 non-null float64\n",
      "Profit        97 non-null float64\n",
      "dtypes: float64(2)\n",
      "memory usage: 1.6 KB\n",
      "None\n"
     ]
    }
   ],
   "source": [
    "# 打印数据信息\n",
    "print(data.info())"
   ]
  },
  {
   "cell_type": "code",
   "execution_count": 5,
   "metadata": {},
   "outputs": [
    {
     "data": {
      "image/png": "[encoded data removed]",
      "text/plain": [
       "<matplotlib.figure.Figure at 0xb321d30>"
      ]
     },
     "metadata": {},
     "output_type": "display_data"
    }
   ],
   "source": [
    "# 使用matplotlib绘图\n",
    "fig = plt.figure()\n",
    "plt.xlabel('Population')\n",
    "plt.ylabel('Profit')\n",
    "plt.scatter(data.Population, data.Profit)\n",
    "plt.show()"
   ]
  },
  {
   "cell_type": "code",
   "execution_count": 6,
   "metadata": {},
   "outputs": [],
   "source": [
    "def get_X(df):\n",
    "    # ones是m行一列的dataframe\n",
    "    ones = pd.DataFrame({'ones': np.ones(len(df))})\n",
    "    # 合并数据，根据列合并\n",
    "    data = pd.concat([ones, df], axis=1)\n",
    "    # 上面两行完成的操作，就是在原有的数据上添加一列全为0的数据\n",
    "    \n",
    "    # 返回ndarray,不是矩阵\n",
    "    return data.iloc[:, :-1].values \n",
    "\n",
    "def get_y(df):\n",
    "    # df.iloc[:, -1]是指df的最后一列\n",
    "    return np.array(df.iloc[:, -1])\n",
    "\n",
    "def normalize_feature(df):\n",
    "    # 特征缩放\n",
    "    return df.apply(lambda column: (column - column.mean()) / column.std())"
   ]
  },
  {
   "cell_type": "markdown",
   "metadata": {},
   "source": [
    "# 计算代价函数"
   ]
  },
  {
   "cell_type": "code",
   "execution_count": 7,
   "metadata": {},
   "outputs": [
    {
     "name": "stdout",
     "output_type": "stream",
     "text": [
      "(97, 2) <class 'numpy.ndarray'>\n",
      "(97,) <class 'numpy.ndarray'>\n",
      "[[ 1.      6.1101]\n",
      " [ 1.      5.5277]\n",
      " [ 1.      8.5186]\n",
      " [ 1.      7.0032]\n",
      " [ 1.      5.8598]\n",
      " [ 1.      8.3829]\n",
      " [ 1.      7.4764]\n",
      " [ 1.      8.5781]\n",
      " [ 1.      6.4862]\n",
      " [ 1.      5.0546]\n",
      " [ 1.      5.7107]\n",
      " [ 1.     14.164 ]\n",
      " [ 1.      5.734 ]\n",
      " [ 1.      8.4084]\n",
      " [ 1.      5.6407]\n",
      " [ 1.      5.3794]\n",
      " [ 1.      6.3654]\n",
      " [ 1.      5.1301]\n",
      " [ 1.      6.4296]\n",
      " [ 1.      7.0708]\n",
      " [ 1.      6.1891]\n",
      " [ 1.     20.27  ]\n",
      " [ 1.      5.4901]\n",
      " [ 1.      6.3261]\n",
      " [ 1.      5.5649]\n",
      " [ 1.     18.945 ]\n",
      " [ 1.     12.828 ]\n",
      " [ 1.     10.957 ]\n",
      " [ 1.     13.176 ]\n",
      " [ 1.     22.203 ]\n",
      " [ 1.      5.2524]\n",
      " [ 1.      6.5894]\n",
      " [ 1.      9.2482]\n",
      " [ 1.      5.8918]\n",
      " [ 1.      8.2111]\n",
      " [ 1.      7.9334]\n",
      " [ 1.      8.0959]\n",
      " [ 1.      5.6063]\n",
      " [ 1.     12.836 ]\n",
      " [ 1.      6.3534]\n",
      " [ 1.      5.4069]\n",
      " [ 1.      6.8825]\n",
      " [ 1.     11.708 ]\n",
      " [ 1.      5.7737]\n",
      " [ 1.      7.8247]\n",
      " [ 1.      7.0931]\n",
      " [ 1.      5.0702]\n",
      " [ 1.      5.8014]\n",
      " [ 1.     11.7   ]\n",
      " [ 1.      5.5416]\n",
      " [ 1.      7.5402]\n",
      " [ 1.      5.3077]\n",
      " [ 1.      7.4239]\n",
      " [ 1.      7.6031]\n",
      " [ 1.      6.3328]\n",
      " [ 1.      6.3589]\n",
      " [ 1.      6.2742]\n",
      " [ 1.      5.6397]\n",
      " [ 1.      9.3102]\n",
      " [ 1.      9.4536]\n",
      " [ 1.      8.8254]\n",
      " [ 1.      5.1793]\n",
      " [ 1.     21.279 ]\n",
      " [ 1.     14.908 ]\n",
      " [ 1.     18.959 ]\n",
      " [ 1.      7.2182]\n",
      " [ 1.      8.2951]\n",
      " [ 1.     10.236 ]\n",
      " [ 1.      5.4994]\n",
      " [ 1.     20.341 ]\n",
      " [ 1.     10.136 ]\n",
      " [ 1.      7.3345]\n",
      " [ 1.      6.0062]\n",
      " [ 1.      7.2259]\n",
      " [ 1.      5.0269]\n",
      " [ 1.      6.5479]\n",
      " [ 1.      7.5386]\n",
      " [ 1.      5.0365]\n",
      " [ 1.     10.274 ]\n",
      " [ 1.      5.1077]\n",
      " [ 1.      5.7292]\n",
      " [ 1.      5.1884]\n",
      " [ 1.      6.3557]\n",
      " [ 1.      9.7687]\n",
      " [ 1.      6.5159]\n",
      " [ 1.      8.5172]\n",
      " [ 1.      9.1802]\n",
      " [ 1.      6.002 ]\n",
      " [ 1.      5.5204]\n",
      " [ 1.      5.0594]\n",
      " [ 1.      5.7077]\n",
      " [ 1.      7.6366]\n",
      " [ 1.      5.8707]\n",
      " [ 1.      5.3054]\n",
      " [ 1.      8.2934]\n",
      " [ 1.     13.394 ]\n",
      " [ 1.      5.4369]]\n",
      "------------------------\n",
      "[17.592    9.1302  13.662   11.854    6.8233  11.886    4.3483  12.\n",
      "  6.5987   3.8166   3.2522  15.505    3.1551   7.2258   0.71618  3.5129\n",
      "  5.3048   0.56077  3.6518   5.3893   3.1386  21.767    4.263    5.1875\n",
      "  3.0825  22.638   13.501    7.0467  14.692   24.147   -1.22     5.9966\n",
      " 12.134    1.8495   6.5426   4.5623   4.1164   3.3928  10.117    5.4974\n",
      "  0.55657  3.9115   5.3854   2.4406   6.7318   1.0463   5.1337   1.844\n",
      "  8.0043   1.0179   6.7504   1.8396   4.2885   4.9981   1.4233  -1.4211\n",
      "  2.4756   4.6042   3.9624   5.4141   5.1694  -0.74279 17.929   12.054\n",
      " 17.054    4.8852   5.7442   7.7754   1.0173  20.992    6.6799   4.0259\n",
      "  1.2784   3.3411  -2.6807   0.29678  3.8845   5.7014   6.7526   2.0576\n",
      "  0.47953  0.20421  0.67861  7.5435   5.3436   4.2415   6.7981   0.92695\n",
      "  0.152    2.8214   1.8451   4.2959   7.2029   1.9869   0.14454  9.0551\n",
      "  0.61705]\n"
     ]
    }
   ],
   "source": [
    "X = get_X(data)\n",
    "y = get_y(data)\n",
    "\n",
    "# 看一下数据的维度\n",
    "print(X.shape, type(X))\n",
    "print(y.shape, type(y))\n",
    "\n",
    "# 输出数据看一下\n",
    "print(X)\n",
    "print(\"------------------------\")\n",
    "print(y)"
   ]
  },
  {
   "cell_type": "code",
   "execution_count": 8,
   "metadata": {},
   "outputs": [
    {
     "name": "stdout",
     "output_type": "stream",
     "text": [
      "(2,)\n"
     ]
    }
   ],
   "source": [
    "# X.shape[1] = 2, 代表特征数\n",
    "theta = np.zeros(X.shape[1])\n",
    "print(theta.shape)"
   ]
  },
  {
   "cell_type": "code",
   "execution_count": 9,
   "metadata": {},
   "outputs": [],
   "source": [
    "def Hypothesis(X, theta):\n",
    "    return X.dot(theta)"
   ]
  },
  {
   "cell_type": "code",
   "execution_count": 17,
   "metadata": {},
   "outputs": [],
   "source": [
    "'''\n",
    "X: R(m*n), m样本数, n特征数\n",
    "y: R(m)\n",
    "theta: R(n), 线性回归的参数,(假设函数的theta0,theta1)\n",
    "'''\n",
    "def lr_cost(theta, X, y):\n",
    "    # m样本数\n",
    "    m = X.shape[0]\n",
    "    # 假设函数\n",
    "    hypothesis = Hypothesis(X, theta)\n",
    "    # 硬上公式\n",
    "    cost = np.square(hypothesis - y).sum() / (2 * m)\n",
    "    return cost"
   ]
  },
  {
   "cell_type": "code",
   "execution_count": 30,
   "metadata": {},
   "outputs": [
    {
     "data": {
      "text/plain": [
       "32.072733877455676"
      ]
     },
     "execution_count": 30,
     "metadata": {},
     "output_type": "execute_result"
    }
   ],
   "source": [
    "lr_cost(theta, X, y)"
   ]
  },
  {
   "cell_type": "markdown",
   "metadata": {},
   "source": [
    "# 批量梯度下降"
   ]
  },
  {
   "cell_type": "code",
   "execution_count": 46,
   "metadata": {},
   "outputs": [],
   "source": [
    "# 单次下降\n",
    "def gradient(theta, X, y):\n",
    "    m = X.shape[0]\n",
    "    J = X.T.dot((Hypothesis(X, theta) - y)) / m\n",
    "    #inner = X.T @ (X @ theta - y) / m\n",
    "    return J"
   ]
  },
  {
   "cell_type": "code",
   "execution_count": 55,
   "metadata": {},
   "outputs": [],
   "source": [
    "'''\n",
    "批量梯度下降函数\n",
    "拟合线性回归\n",
    "iteration 迭代次数\n",
    "'''\n",
    "\n",
    "def batch_gradient_decent(theta, X, y, iteration, alpha = 0.01):\n",
    "    cost_data = lr_cost(theta, X, y)\n",
    "    # 拷贝一份theta数据，不与原来的混淆\n",
    "    theta_copy = theta.copy()\n",
    "    for _ in range(iteration):\n",
    "        theta_copy = theta_copy - alpha * gradient(theta_copy, X, y)\n",
    "        cost_data = np.append(cost_data, lr_cost(theta_copy, X, y))\n",
    "    \n",
    "    return theta_copy, cost_data"
   ]
  },
  {
   "cell_type": "code",
   "execution_count": 67,
   "metadata": {},
   "outputs": [],
   "source": [
    "# 迭代次数为1000\n",
    "iteration = 500\n",
    "final_theta, final_cost_data = batch_gradient_decent(theta, X, y, iteration)"
   ]
  },
  {
   "cell_type": "code",
   "execution_count": 68,
   "metadata": {},
   "outputs": [
    {
     "name": "stdout",
     "output_type": "stream",
     "text": [
      "[-2.28286727  1.03099898]\n"
     ]
    }
   ],
   "source": [
    "print(final_theta)"
   ]
  },
  {
   "cell_type": "code",
   "execution_count": 69,
   "metadata": {},
   "outputs": [
    {
     "name": "stdout",
     "output_type": "stream",
     "text": [
      "[32.07273388  6.73719046  5.93159357  5.90115471  5.89522859  5.89009494\n",
      "  5.88500416  5.87993248  5.87487909  5.86984391  5.86482687  5.85982789\n",
      "  5.85484692  5.84988389  5.84493874  5.8400114   5.83510181  5.8302099\n",
      "  5.82533562  5.82047889  5.81563965  5.81081784  5.8060134   5.80122627\n",
      "  5.79645638  5.79170367  5.78696808  5.78224955  5.77754801  5.77286341\n",
      "  5.76819568  5.76354477  5.75891061  5.75429313  5.7496923   5.74510803\n",
      "  5.74054027  5.73598897  5.73145406  5.72693549  5.72243319  5.71794711\n",
      "  5.71347718  5.70902336  5.70458558  5.70016379  5.69575792  5.69136792\n",
      "  5.68699373  5.6826353   5.67829257  5.67396548  5.66965398  5.665358\n",
      "  5.6610775   5.65681242  5.6525627   5.64832829  5.64410913  5.63990517\n",
      "  5.63571635  5.63154261  5.62738391  5.6232402   5.6191114   5.61499748\n",
      "  5.61089837  5.60681403  5.60274441  5.59868944  5.59464907  5.59062326\n",
      "  5.58661195  5.58261509  5.57863263  5.57466451  5.57071068  5.56677109\n",
      "  5.5628457   5.55893444  5.55503727  5.55115414  5.547285    5.54342979\n",
      "  5.53958847  5.53576098  5.53194728  5.52814732  5.52436105  5.52058841\n",
      "  5.51682936  5.51308385  5.50935183  5.50563326  5.50192808  5.49823624\n",
      "  5.49455771  5.49089242  5.48724033  5.4836014   5.47997558  5.47636282\n",
      "  5.47276307  5.46917628  5.46560242  5.46204143  5.45849326  5.45495788\n",
      "  5.45143522  5.44792526  5.44442794  5.44094322  5.43747105  5.43401138\n",
      "  5.43056418  5.42712939  5.42370698  5.42029689  5.41689909  5.41351352\n",
      "  5.41014015  5.40677893  5.40342982  5.40009277  5.39676774  5.39345469\n",
      "  5.39015357  5.38686434  5.38358696  5.38032138  5.37706756  5.37382547\n",
      "  5.37059505  5.36737627  5.36416908  5.36097345  5.35778933  5.35461667\n",
      "  5.35145544  5.3483056   5.34516711  5.34203991  5.33892399  5.33581928\n",
      "  5.33272576  5.32964339  5.32657211  5.3235119   5.32046271  5.3174245\n",
      "  5.31439724  5.31138088  5.30837538  5.30538071  5.30239683  5.2994237\n",
      "  5.29646127  5.29350951  5.29056839  5.28763786  5.28471789  5.28180843\n",
      "  5.27890945  5.27602092  5.27314279  5.27027503  5.26741759  5.26457045\n",
      "  5.26173356  5.2589069   5.25609041  5.25328407  5.25048783  5.24770167\n",
      "  5.24492555  5.24215942  5.23940326  5.23665702  5.23392068  5.23119419\n",
      "  5.22847752  5.22577064  5.22307351  5.22038609  5.21770835  5.21504026\n",
      "  5.21238178  5.20973288  5.20709351  5.20446365  5.20184327  5.19923232\n",
      "  5.19663078  5.19403861  5.19145577  5.18888224  5.18631798  5.18376295\n",
      "  5.18121713  5.17868048  5.17615296  5.17363455  5.17112521  5.16862491\n",
      "  5.16613361  5.16365129  5.16117791  5.15871344  5.15625784  5.15381109\n",
      "  5.15137315  5.148944    5.14652359  5.1441119   5.1417089   5.13931455\n",
      "  5.13692883  5.1345517   5.13218314  5.1298231   5.12747157  5.1251285\n",
      "  5.12279388  5.12046766  5.11814983  5.11584034  5.11353917  5.11124629\n",
      "  5.10896167  5.10668527  5.10441708  5.10215706  5.09990518  5.0976614\n",
      "  5.09542571  5.09319808  5.09097846  5.08876685  5.08656319  5.08436748\n",
      "  5.08217967  5.07999975  5.07782768  5.07566343  5.07350697  5.07135828\n",
      "  5.06921734  5.0670841   5.06495855  5.06284065  5.06073039  5.05862772\n",
      "  5.05653263  5.05444508  5.05236505  5.05029252  5.04822745  5.04616982\n",
      "  5.0441196   5.04207676  5.04004129  5.03801314  5.0359923   5.03397874\n",
      "  5.03197243  5.02997335  5.02798147  5.02599676  5.0240192   5.02204877\n",
      "  5.02008543  5.01812917  5.01617995  5.01423775  5.01230255  5.01037431\n",
      "  5.00845303  5.00653866  5.00463119  5.00273059  5.00083684  4.9989499\n",
      "  4.99706977  4.9951964   4.99332979  4.99146989  4.9896167   4.98777018\n",
      "  4.98593031  4.98409707  4.98227043  4.98045038  4.97863687  4.9768299\n",
      "  4.97502944  4.97323547  4.97144795  4.96966687  4.96789221  4.96612395\n",
      "  4.96436205  4.96260649  4.96085726  4.95911433  4.95737768  4.95564729\n",
      "  4.95392312  4.95220517  4.95049341  4.94878781  4.94708835  4.94539502\n",
      "  4.94370778  4.94202663  4.94035152  4.93868246  4.9370194   4.93536233\n",
      "  4.93371123  4.93206608  4.93042686  4.92879354  4.9271661   4.92554453\n",
      "  4.92392879  4.92231888  4.92071476  4.91911642  4.91752384  4.915937\n",
      "  4.91435587  4.91278043  4.91121067  4.90964657  4.9080881   4.90653524\n",
      "  4.90498798  4.90344629  4.90191015  4.90037954  4.89885445  4.89733485\n",
      "  4.89582073  4.89431206  4.89280882  4.891311    4.88981857  4.88833152\n",
      "  4.88684982  4.88537346  4.88390242  4.88243668  4.88097622  4.87952102\n",
      "  4.87807106  4.87662632  4.87518678  4.87375243  4.87232325  4.87089922\n",
      "  4.86948031  4.86806652  4.86665782  4.86525419  4.86385562  4.86246208\n",
      "  4.86107357  4.85969005  4.85831152  4.85693796  4.85556934  4.85420565\n",
      "  4.85284687  4.85149299  4.85014399  4.84879984  4.84746054  4.84612606\n",
      "  4.84479638  4.8434715   4.84215138  4.84083603  4.83952541  4.83821951\n",
      "  4.83691831  4.83562181  4.83432997  4.83304278  4.83176023  4.83048231\n",
      "  4.82920898  4.82794024  4.82667607  4.82541645  4.82416138  4.82291082\n",
      "  4.82166476  4.8204232   4.8191861   4.81795347  4.81672527  4.81550149\n",
      "  4.81428213  4.81306715  4.81185656  4.81065032  4.80944843  4.80825086\n",
      "  4.80705761  4.80586866  4.80468399  4.80350359  4.80232744  4.80115553\n",
      "  4.79998784  4.79882435  4.79766505  4.79650993  4.79535897  4.79421216\n",
      "  4.79306948  4.79193091  4.79079644  4.78966606  4.78853976  4.7874175\n",
      "  4.7862993   4.78518511  4.78407495  4.78296878  4.78186659  4.78076838\n",
      "  4.77967412  4.7785838   4.77749741  4.77641493  4.77533635  4.77426166\n",
      "  4.77319084  4.77212387  4.77106075  4.77000146  4.76894598  4.7678943\n",
      "  4.76684642  4.7658023   4.76476195  4.76372535  4.76269247  4.76166332\n",
      "  4.76063788  4.75961613  4.75859806  4.75758366  4.75657291  4.7555658\n",
      "  4.75456232  4.75356245  4.75256619  4.75157351  4.75058441  4.74959887\n",
      "  4.74861688  4.74763843  4.7466635   4.74569209  4.74472417  4.74375974\n",
      "  4.74279878  4.74184129  4.74088724  4.73993663  4.73898945  4.73804567\n",
      "  4.7371053   4.73616831  4.7352347   4.73430445  4.73337755  4.73245399\n",
      "  4.73153376  4.73061684  4.72970322  4.7287929   4.72788585  4.72698207\n",
      "  4.72608155  4.72518427  4.72429022  4.72339939  4.72251177  4.72162735\n",
      "  4.72074611  4.71986805  4.71899315  4.7181214   4.71725279  4.71638731\n",
      "  4.71552495  4.71466569  4.71380953]\n"
     ]
    }
   ],
   "source": [
    "print(final_cost_data)"
   ]
  },
  {
   "cell_type": "code",
   "execution_count": 85,
   "metadata": {},
   "outputs": [
    {
     "data": {
      "text/plain": [
       "4.7138095311168655"
      ]
     },
     "execution_count": 85,
     "metadata": {},
     "output_type": "execute_result"
    }
   ],
   "source": [
    "# 计算最终的代价函数\n",
    "lr_cost(final_theta, X, y)"
   ]
  },
  {
   "cell_type": "markdown",
   "metadata": {},
   "source": [
    "## 代价函数可视化"
   ]
  },
  {
   "cell_type": "code",
   "execution_count": 86,
   "metadata": {},
   "outputs": [
    {
     "data": {
      "image/png": "[encoded data removed]",
      "text/plain": [
       "<matplotlib.figure.Figure at 0xe892a20>"
      ]
     },
     "metadata": {},
     "output_type": "display_data"
    }
   ],
   "source": [
    "'''\n",
    "此方法官方已弃用\n",
    "ax = sns.tsplot(final_cost_data, np.arange(iteration+1))\n",
    "ax.set_xlabel('iteration')\n",
    "ax.set_ylabel('cost')\n",
    "plt.show()\n",
    "'''\n",
    "fig = plt.figure()\n",
    "plt.xlabel('Iteration')\n",
    "plt.ylabel('Cost')\n",
    "plt.plot(final_cost_data, np.arange(iteration+1))\n",
    "plt.show()"
   ]
  },
  {
   "cell_type": "code",
   "execution_count": 88,
   "metadata": {},
   "outputs": [
    {
     "data": {
      "image/png": "[encoded data removed]",
      "text/plain": [
       "<matplotlib.figure.Figure at 0xeaa3358>"
      ]
     },
     "metadata": {},
     "output_type": "display_data"
    }
   ],
   "source": [
    "# 截距\n",
    "b = final_theta[0]\n",
    "# 斜率\n",
    "k = final_theta[1]\n",
    "\n",
    "plt.scatter(data['Population'], data['Profit'], label='Training data')\n",
    "plt.plot(data.Population, k * data.Population + b, label='Prediction')\n",
    "plt.legend(loc=2)\n",
    "plt.show()"
   ]
  },
  {
   "cell_type": "code",
   "execution_count": null,
   "metadata": {},
   "outputs": [],
   "source": []
  }
 ],
 "metadata": {
  "kernelspec": {
   "display_name": "Python 3",
   "language": "python",
   "name": "python3"
  },
  "language_info": {
   "codemirror_mode": {
    "name": "ipython",
    "version": 3
   },
   "file_extension": ".py",
   "mimetype": "text/x-python",
   "name": "python",
   "nbconvert_exporter": "python",
   "pygments_lexer": "ipython3",
   "version": "3.6.4"
  }
 },
 "nbformat": 4,
 "nbformat_minor": 1
}
